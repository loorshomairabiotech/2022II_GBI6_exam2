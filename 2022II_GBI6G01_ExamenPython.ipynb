{
 "cells": [
  {
   "cell_type": "markdown",
   "metadata": {
    "id": "CqMrJlLXdxx3"
   },
   "source": [
    "<img src=\"https://user-images.githubusercontent.com/117690592/216235417-866caa42-9efc-43e0-9f65-bf132a87f735.png\" width=300 height=240 />\n",
    "<font color='red'></font>\n",
    "\n",
    "# EXAMEN PARCIAL PYTHON\n",
    "    \n",
    "\n",
    "## GBI6-2022II: BIOINFORMÁTICA\n",
    "\n",
    "**Loor Loja, Shomaira Anai** <font color='red'></font>\n",
    "\n",
    "**01-02-2022**"
   ]
  },
  {
   "cell_type": "markdown",
   "metadata": {
    "id": "mm5p2xYEdxx7"
   },
   "source": [
    "### REQUERIMIENTOS PARA EL EXAMEN\n",
    "\n",
    "Utilice de preferencia ```Jupyter``` de Anaconda, dado que tienen que hacer un control de cambios en cada pregunta. \n",
    "\n",
    "Para este examen se requiere dos documentos: \n",
    "\n",
    "1. Archivo ```coati.py``` donde tendrá dos funciones:\n",
    "\n",
    "2. Archivo ```2022II_GBI6_ExamenPython``` donde se llamará las funciones y se obtendrá resultados."
   ]
  },
  {
   "cell_type": "markdown",
   "metadata": {
    "id": "d_s4eOqkdxx8"
   },
   "source": [
    "## Ejercicio 0 [0.5 puntos]\n",
    "Realice cambios al cuaderno de jupyter: \n",
    "- Agregue el logo de la Universidad\n",
    "- Coloque sus datos personales \n",
    "| DATOS PERSONALES |                |\n",
    "| ---------------- | --------------- |\n",
    "| NOMBRES | Shomaira Anai |\n",
    "| APELLIDOS | Loor Loja |\n",
    "| EDAD | 22 |\n",
    "| CIUDAD DE ORIGEN | QUITO |\n",
    "| CIUDAD DE RESIDENCIA | TENA |\n",
    "\n",
    "- Escriba una <font color='red'>**tabla**</font> con las características de su computador \n",
    "\n",
    "| CARACTERISTICAS DEL COMPUTADOR |           |\n",
    "| ------------------------------- | -----------|\n",
    "| Nombre del dispositivo\tDESKTOP-LKEFEJE\n",
    "| Procesador Intel(R) Core(TM) | i3-1005G1 CPU @ 1.20GHz   1.19 GHz |\n",
    "| RAM instalada 12,0 | GB (11,7 GB utilizable)\n",
    "| Id. del dispositivo | 2A6D6B2C-602B-422D-9213-24A01D37768F |\n",
    "\n"
   ]
  },
  {
   "cell_type": "markdown",
   "metadata": {
    "id": "wN8yA7N2dxx8"
   },
   "source": [
    "## Ejercicio 1 [1.5 puntos]\n",
    "Inserte la captura de pantalla del curso [PANDAS](https://www.kaggle.com/learn/pandas) de Kaggle (Certificado y evidencia de avance de la página de Kaggle)\n",
    "\n",
    "\n",
    "\n",
    "\n",
    " <img src=\"https://user-images.githubusercontent.com/117690592/216238053-5c3c84bb-247f-4e02-984c-5a2ec19ebd7d.png\" width=300 height=240 />\n",
    "    <font color='red'></font>"
   ]
  },
  {
   "cell_type": "markdown",
   "metadata": {
    "id": "RT9MQH1tdxx9"
   },
   "source": [
    "## Ejercicio 2 [1.5 puntos]\n",
    "Inserte la captura de pantalla del curso [VISUALIZACIÓN](https://www.kaggle.com/learn/data-visualization) de Kaggle (Certificado y evidencia de avance de la página de Kaggle)\n",
    "\n",
    "\n",
    "<img src=\"https://user-images.githubusercontent.com/117690592/216245434-838e76db-abee-4de0-b42b-2d4877e92c61.png\" width=300 height=240 />\n",
    "    <font color='red'></font>"
   ]
  },
  {
   "cell_type": "markdown",
   "metadata": {
    "id": "g_USX4hIdxx9",
    "tags": []
   },
   "source": [
    "## Ejercicio 3 [3 puntos]\n",
    "\n",
    "En su carpeta de examen tiene el documento ```id_coati.txt``` donde se encuentran los identificadores de accesión que debe usar para descargar información. \n",
    "Cree el módulo ```coati.py``` con las siguientes tres **funciones** y sus respectivos **docstring** :\n",
    "    \n",
    "i. ```fasta_downloader```: para cargar ```id_coati.txt``` en ```id_coati```y descargar en **formato genbank** la información correspondiente a los identificadores de accesión usando el **ENTREZ** de Biopythony se guardar en ```coati``` y en ```coati.gb```. \n",
    "\n",
    "ii. ```alignment```: para que el algoritmo extraiga **solamente las secuencias** de la variable ```coati``` y realice un alineamiento usando clustalW. El resultado debe ser ```coati.aln``` y ```coati.dnd``` que deben guardarse en su carpeta de trabajo.  \n",
    "\n",
    "iii ```tree```: para que realice el cálculo de las distancias utilizando ```coati.aln``` y finalmente que imprima en la pantalla el árbol filogenético y guarde en su carpeta de trabajo el arbol como ```coati_phylotree.pdf```\n",
    "\n",
    "iv. Cargue el módulo ```coati``` e **imprima docstring de cada función**.\n"
   ]
  },
  {
   "cell_type": "code",
   "execution_count": 30,
   "metadata": {
    "id": "tZyt2Mh1dxx-"
   },
   "outputs": [
    {
     "name": "stdout",
     "output_type": "stream",
     "text": [
      "None\n"
     ]
    }
   ],
   "source": [
    "# Escriba aquí su código para el ejercicio 3\n",
    "\n",
    "# Importando el archivo del ejercicio 3\n",
    "import coati\n",
    "\n",
    "print(coati.fasta_downloader())\n",
    "print(coati.alignment._doc_)\n",
    "print(coati.tree._doc_)\n",
    "\n",
    "\n",
    "\n",
    "\n",
    "\n",
    "\n"
   ]
  },
  {
   "cell_type": "markdown",
   "metadata": {
    "id": "9OZU3n7LdxyA"
   },
   "source": [
    "\n",
    "## Ejercicio 4 [1.5 puntos]\n",
    "\n",
    "Escriba una o dos líneas de código para usar las funciones ```fasta_downloader```, ```alignment``` y ```tree```: \n",
    "\n",
    "i. Descargue la data en ```coati``` y guarde como ```coati.gdb```.  \n",
    "\n",
    "ii. Alinee las secuencias de ```coati``` y obtenga ```coati.aln``` y ```coati.dnd```.\n",
    "\n",
    "iii. Construya e **interprete** el arbol filogenético y guarde en ```coati_phylotree.pdf```."
   ]
  },
  {
   "cell_type": "code",
   "execution_count": 36,
   "metadata": {
    "id": "r6J-C8xCdxyA"
   },
   "outputs": [
    {
     "name": "stdout",
     "output_type": "stream",
     "text": [
      "None\n"
     ]
    },
    {
     "ename": "ApplicationError",
     "evalue": "Non-zero return code 1 from '\"C:\\\\ProgramData\\\\Microsoft\\\\Windows\\\\Start Menu\\\\Programs\\\\ClustalX2\\\\clustalw.exe\" -infile=coati', message '\"\"C:\\\\ProgramData\\\\Microsoft\\\\Windows\\\\Start Menu\\\\Programs\\\\ClustalX2\\\\clustalw.exe\"\" no se reconoce como un comando interno o externo,'",
     "output_type": "error",
     "traceback": [
      "\u001b[1;31m---------------------------------------------------------------------------\u001b[0m",
      "\u001b[1;31mApplicationError\u001b[0m                          Traceback (most recent call last)",
      "\u001b[1;32m~\\AppData\\Local\\Temp\\ipykernel_9716\\3179228340.py\u001b[0m in \u001b[0;36m<module>\u001b[1;34m\u001b[0m\n\u001b[0;32m      4\u001b[0m \u001b[1;31m# Descarga de la data en coati y guarde como coati.gdb.\u001b[0m\u001b[1;33m\u001b[0m\u001b[1;33m\u001b[0m\u001b[0m\n\u001b[0;32m      5\u001b[0m \u001b[0mprint\u001b[0m\u001b[1;33m(\u001b[0m\u001b[0mcoati\u001b[0m\u001b[1;33m.\u001b[0m\u001b[0mfasta_downloader\u001b[0m\u001b[1;33m(\u001b[0m\u001b[1;33m)\u001b[0m\u001b[1;33m)\u001b[0m\u001b[1;33m\u001b[0m\u001b[1;33m\u001b[0m\u001b[0m\n\u001b[1;32m----> 6\u001b[1;33m \u001b[0mprint\u001b[0m\u001b[1;33m(\u001b[0m\u001b[0mcoati\u001b[0m\u001b[1;33m.\u001b[0m\u001b[0malignment\u001b[0m\u001b[1;33m(\u001b[0m\u001b[1;33m)\u001b[0m\u001b[1;33m)\u001b[0m\u001b[1;33m\u001b[0m\u001b[1;33m\u001b[0m\u001b[0m\n\u001b[0m\u001b[0;32m      7\u001b[0m \u001b[0mcoati\u001b[0m\u001b[1;33m.\u001b[0m\u001b[0mtree\u001b[0m\u001b[1;33m(\u001b[0m\u001b[1;33m)\u001b[0m\u001b[1;33m\u001b[0m\u001b[1;33m\u001b[0m\u001b[0m\n",
      "\u001b[1;32m~\\Downloads\\shomairaloorbio\\2022II_GBI6_exam2\\coati.py\u001b[0m in \u001b[0;36malignment\u001b[1;34m()\u001b[0m\n\u001b[0;32m     33\u001b[0m     \u001b[1;31m# Realizar la alineación utilizando ClustalW\u001b[0m\u001b[1;33m\u001b[0m\u001b[1;33m\u001b[0m\u001b[0m\n\u001b[0;32m     34\u001b[0m     \u001b[0mclustalw_cline\u001b[0m \u001b[1;33m=\u001b[0m \u001b[0mClustalwCommandline\u001b[0m\u001b[1;33m(\u001b[0m\u001b[1;34m\"C:\\ProgramData\\Microsoft\\Windows\\Start Menu\\Programs\\ClustalW2\\Clustalw.exe\"\u001b[0m\u001b[1;33m,\u001b[0m \u001b[0minfile\u001b[0m\u001b[1;33m=\u001b[0m\u001b[1;34m\"coati\"\u001b[0m\u001b[1;33m)\u001b[0m\u001b[1;33m\u001b[0m\u001b[1;33m\u001b[0m\u001b[0m\n\u001b[1;32m---> 35\u001b[1;33m     \u001b[0mclustalw_cline\u001b[0m\u001b[1;33m(\u001b[0m\u001b[1;33m)\u001b[0m\u001b[1;33m\u001b[0m\u001b[1;33m\u001b[0m\u001b[0m\n\u001b[0m\u001b[0;32m     36\u001b[0m     \u001b[0mos\u001b[0m\u001b[1;33m.\u001b[0m\u001b[0mrename\u001b[0m\u001b[1;33m(\u001b[0m\u001b[1;34m\"coati.aln\"\u001b[0m\u001b[1;33m,\u001b[0m \u001b[1;34m\"coati_aligned.aln\"\u001b[0m\u001b[1;33m)\u001b[0m\u001b[1;33m\u001b[0m\u001b[1;33m\u001b[0m\u001b[0m\n\u001b[0;32m     37\u001b[0m     \u001b[0mos\u001b[0m\u001b[1;33m.\u001b[0m\u001b[0mrename\u001b[0m\u001b[1;33m(\u001b[0m\u001b[1;34m\"coati.dnd\"\u001b[0m\u001b[1;33m,\u001b[0m \u001b[1;34m\"coati_aligned.dnd\"\u001b[0m\u001b[1;33m)\u001b[0m\u001b[1;33m\u001b[0m\u001b[1;33m\u001b[0m\u001b[0m\n",
      "\u001b[1;32m~\\anaconda3\\lib\\site-packages\\Bio\\Application\\__init__.py\u001b[0m in \u001b[0;36m__call__\u001b[1;34m(self, stdin, stdout, stderr, cwd, env)\u001b[0m\n\u001b[0;32m    572\u001b[0m \u001b[1;33m\u001b[0m\u001b[0m\n\u001b[0;32m    573\u001b[0m         \u001b[1;32mif\u001b[0m \u001b[0mreturn_code\u001b[0m\u001b[1;33m:\u001b[0m\u001b[1;33m\u001b[0m\u001b[1;33m\u001b[0m\u001b[0m\n\u001b[1;32m--> 574\u001b[1;33m             \u001b[1;32mraise\u001b[0m \u001b[0mApplicationError\u001b[0m\u001b[1;33m(\u001b[0m\u001b[0mreturn_code\u001b[0m\u001b[1;33m,\u001b[0m \u001b[0mstr\u001b[0m\u001b[1;33m(\u001b[0m\u001b[0mself\u001b[0m\u001b[1;33m)\u001b[0m\u001b[1;33m,\u001b[0m \u001b[0mstdout_str\u001b[0m\u001b[1;33m,\u001b[0m \u001b[0mstderr_str\u001b[0m\u001b[1;33m)\u001b[0m\u001b[1;33m\u001b[0m\u001b[1;33m\u001b[0m\u001b[0m\n\u001b[0m\u001b[0;32m    575\u001b[0m         \u001b[1;32mreturn\u001b[0m \u001b[0mstdout_str\u001b[0m\u001b[1;33m,\u001b[0m \u001b[0mstderr_str\u001b[0m\u001b[1;33m\u001b[0m\u001b[1;33m\u001b[0m\u001b[0m\n\u001b[0;32m    576\u001b[0m \u001b[1;33m\u001b[0m\u001b[0m\n",
      "\u001b[1;31mApplicationError\u001b[0m: Non-zero return code 1 from '\"C:\\\\ProgramData\\\\Microsoft\\\\Windows\\\\Start Menu\\\\Programs\\\\ClustalX2\\\\clustalw.exe\" -infile=coati', message '\"\"C:\\\\ProgramData\\\\Microsoft\\\\Windows\\\\Start Menu\\\\Programs\\\\ClustalX2\\\\clustalw.exe\"\" no se reconoce como un comando interno o externo,'"
     ]
    }
   ],
   "source": [
    "# Escriba aquí su código para el ejercicio 4\n",
    "import coati\n",
    "\n",
    "# Descarga de la data en coati y guarde como coati.gdb.\n",
    "coati.fasta_downloader()\n",
    "coati.alignment()\n",
    "coati.tree()"
   ]
  },
  {
   "cell_type": "markdown",
   "metadata": {
    "id": "3ql-7IgEdxyB"
   },
   "source": [
    "## Ejercicio 5 [1.5 puntos]\n",
    "\n",
    "Con las secuencias de ADN de ```coati```, realice lo siguiente: \n",
    "\n",
    "i. la traducción y cálculo del peso molecular (**molecular_weight**) y el índice de estabilidad (**instability_index**) de los péptidos resultantes. \n",
    "\n",
    "ii. una gráfica tipo [joinplot](https://seaborn.pydata.org/generated/seaborn.jointplot.html#seaborn.jointplot) utilizando los parámetros de peso molecular e índice de estabilidad. Edite color, tamaño y tipo de puntos, asimismo etiquete adecuadamente el título y los ejes.\n",
    "\n",
    "iii. guarde la figura como ```coati.png``` con una resolución de 300dpi.\n",
    "\n",
    "iv. interprete la figura resultante"
   ]
  },
  {
   "cell_type": "code",
   "execution_count": 40,
   "metadata": {
    "id": "nwWxkdWodxyB"
   },
   "outputs": [
    {
     "ename": "SyntaxError",
     "evalue": "invalid non-printable character U+00A0 (4180863228.py, line 56)",
     "output_type": "error",
     "traceback": [
      "\u001b[1;36m  File \u001b[1;32m\"C:\\Users\\ASUS\\AppData\\Local\\Temp\\ipykernel_9716\\4180863228.py\"\u001b[1;36m, line \u001b[1;32m56\u001b[0m\n\u001b[1;33m    tree()\u001b[0m\n\u001b[1;37m    ^\u001b[0m\n\u001b[1;31mSyntaxError\u001b[0m\u001b[1;31m:\u001b[0m invalid non-printable character U+00A0\n"
     ]
    }
   ],
   "source": [
    "# Escriba aquí su código para el ejercicio 5\n",
    "# Desarrolo ejercicio 5\n",
    "import os\n",
    "from Bio import Entrez, SeqIO\n",
    "from Bio.Align.Applications import ClustalwCommandline\n",
    "from Bio.Phylo.TreeConstruction import DistanceCalculator\n",
    "from Bio.Phylo.TreeConstruction import DistanceTreeConstructor\n",
    "import matplotlib.pyplot as plt\n",
    "\n",
    "# Función para descargar las secuencias en formato FASTA a partir de una lista de identificadores\n",
    "def fasta_downloader():\n",
    "    # Carga el archivo id_coati.txt\n",
    "    with open(\"id_coati.txt\") as file:\n",
    "        ids = file.read().splitlines()\n",
    "\n",
    "    # Descarga la información utilizando la base de datos Entrez de Biopython\n",
    "    Entrez.email = \"shomaira.loor@est.ikiam.edu.ec\"\n",
    "    handle = Entrez.efetch(db=\"nucleotide\", id=ids, rettype=\"gb\", retmode=\"text\")\n",
    "    records = list(SeqIO.parse(handle, \"gb\"))\n",
    "    with open(\"coati.gb\", \"w\") as output_handle:\n",
    "        SeqIO.write(records, output_handle, \"genbank\")\n",
    "    with open(\"coati\", \"w\") as output_handle:\n",
    "        SeqIO.write(records, output_handle, \"fasta\")\n",
    "\n",
    "# Función para realizar el alineamiento de las secuencias descargadas\n",
    "def alignment():\n",
    "    # Realiza el alineamiento de las secuencias utilizando ClustalW\n",
    "    clustalw_cline = ClustalwCommandline(\"clustalw\", infile=\"coati\")\n",
    "    clustalw_cline()\n",
    "    os.rename(\"coati.aln\", \"coati_aligned.aln\")\n",
    "    os.rename(\"coati.dnd\", \"coati_aligned.dnd\")\n",
    "\n",
    "# Función para construir y mostrar el árbol filogenético\n",
    "def tree():\n",
    "    # Carga las secuencias alineadas\n",
    "    with open(\"coati_aligned.aln\", \"r\") as handle:\n",
    "        records = list(SeqIO.parse(handle, \"fasta\"))\n",
    "    \n",
    "    # Calcula las distancias entre las secuencias\n",
    "    calculator = DistanceCalculator(\"blosum62\")\n",
    "    dm = calculator.get_distance(records)\n",
    "\n",
    "    # Construye el árbol filogenético\n",
    "    constructor = DistanceTreeConstructor(calculator, \"nj\")\n",
    "    tree = constructor.build_tree(records)\n",
    "    \n",
    "    # Muestra el árbol filogenético en una figura y lo guarda como coati_phylotree.pdf\n",
    "    plt.figure()\n",
    "    from Bio import Phylo\n",
    "    Phylo.draw(tree, branch_labels=lambda c: c.branch_length)\n",
    "    plt.savefig(\"coati_phylotree.pdf\")\n",
    "\n",
    "if _name_ == \"_main_\":\n",
    "    fasta_downloader()\n",
    "    alignment()\n",
    "    tree()\n",
    "\n",
    "\n",
    "\n",
    "\n",
    "\n",
    "\n"
   ]
  },
  {
   "cell_type": "markdown",
   "metadata": {
    "id": "H3Fw9461dxyB"
   },
   "source": [
    "## Ejercicio 6 [0.5 puntos]\n",
    "\n",
    "\n",
    "1. Cree un archivo ```Readme.md``` que debe tener lo siguiente:\n",
    "- Datos personales\n",
    "- Características del computador\n",
    "- Versión de Python/Anaconda y de cada uno de los módulos/paquetes y utilizados\n",
    "- Explicación de la data utilizada\n",
    "\n",
    "2. Asegurarse que su repositorio tiene las carpetas ```data``` e ```img``` con los archivos que ha ido guardando en las preguntas anteriores.  \n",
    "3. Realice al menos 1 control de la versión (commits) por cada ejercicio (del 1 al 5), con un mensaje que inicie como: \n",
    "\n",
    "```sh \n",
    "Carlitos Alimaña ha realizado el ejercicio 1  \n",
    "```\n",
    "```sh \n",
    "Carlitos Alimaña ha realizado el ejercicio 2\n",
    "```\n",
    "```sh \n",
    "...\n",
    "```\n"
   ]
  },
  {
   "cell_type": "code",
   "execution_count": null,
   "metadata": {
    "id": "aAPjSBM7dxyC"
   },
   "outputs": [],
   "source": []
  }
 ],
 "metadata": {
  "colab": {
   "provenance": []
  },
  "kernelspec": {
   "display_name": "Python 3 (ipykernel)",
   "language": "python",
   "name": "python3"
  },
  "language_info": {
   "codemirror_mode": {
    "name": "ipython",
    "version": 3
   },
   "file_extension": ".py",
   "mimetype": "text/x-python",
   "name": "python",
   "nbconvert_exporter": "python",
   "pygments_lexer": "ipython3",
   "version": "3.9.13"
  },
  "latex_envs": {
   "LaTeX_envs_menu_present": true,
   "autoclose": false,
   "autocomplete": true,
   "bibliofile": "biblio.bib",
   "cite_by": "apalike",
   "current_citInitial": 1,
   "eqLabelWithNumbers": true,
   "eqNumInitial": 1,
   "hotkeys": {
    "equation": "Ctrl-E",
    "itemize": "Ctrl-I"
   },
   "labels_anchors": false,
   "latex_user_defs": false,
   "report_style_numbering": false,
   "user_envs_cfg": false
  },
  "toc": {
   "base_numbering": 1,
   "nav_menu": {},
   "number_sections": true,
   "sideBar": false,
   "skip_h1_title": false,
   "title_cell": "Table of Contents",
   "title_sidebar": "Contents",
   "toc_cell": false,
   "toc_position": {
    "height": "1152.67px",
    "left": "41px",
    "top": "110px",
    "width": "253.458px"
   },
   "toc_section_display": true,
   "toc_window_display": false
  },
  "varInspector": {
   "cols": {
    "lenName": 16,
    "lenType": 16,
    "lenVar": 40
   },
   "kernels_config": {
    "python": {
     "delete_cmd_postfix": "",
     "delete_cmd_prefix": "del ",
     "library": "var_list.py",
     "varRefreshCmd": "print(var_dic_list())"
    },
    "r": {
     "delete_cmd_postfix": ") ",
     "delete_cmd_prefix": "rm(",
     "library": "var_list.r",
     "varRefreshCmd": "cat(var_dic_list()) "
    }
   },
   "types_to_exclude": [
    "module",
    "function",
    "builtin_function_or_method",
    "instance",
    "_Feature"
   ],
   "window_display": false
  }
 },
 "nbformat": 4,
 "nbformat_minor": 4
}
